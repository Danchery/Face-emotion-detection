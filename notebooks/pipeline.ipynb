{
 "cells": [
  {
   "cell_type": "code",
   "execution_count": 1,
   "id": "cd4ab92d-4da2-447d-bb01-b6edac528eb7",
   "metadata": {},
   "outputs": [],
   "source": [
    "import torch, torchvision\n",
    "import cv2\n",
    "from torchvision import transforms\n",
    "from torch import nn\n",
    "from ultralytics import YOLO\n",
    "from PIL import Image\n",
    "from helpers_functions.process_frame import process_frame"
   ]
  },
  {
   "cell_type": "code",
   "execution_count": 2,
   "id": "5554ae6d-07c2-47fd-a545-98c0d8bd7518",
   "metadata": {},
   "outputs": [
    {
     "data": {
      "text/plain": [
       "'cuda'"
      ]
     },
     "execution_count": 2,
     "metadata": {},
     "output_type": "execute_result"
    }
   ],
   "source": [
    "device = 'cuda' if torch.cuda.is_available() else 'cpu'\n",
    "device"
   ]
  },
  {
   "cell_type": "markdown",
   "id": "11193374-f5eb-45bf-b2b6-b05faeccdf30",
   "metadata": {},
   "source": [
    "## Import models"
   ]
  },
  {
   "cell_type": "code",
   "execution_count": 4,
   "id": "4a03bf69-a6bb-4645-b89e-5b25566196a0",
   "metadata": {},
   "outputs": [],
   "source": [
    "# Import classifier model\n",
    "efficentNet_b0_weights = torch.load(r'..\\models\\efficentNet_b0.pth')\n",
    "efficient_bo_model = torchvision.models.efficientnet_b0()\n",
    "efficient_bo_model.classifier = nn.Sequential(\n",
    "    nn.Dropout(p=0.4, inplace=True),\n",
    "    nn.Linear(in_features=1280, out_features=7, bias=True)\n",
    ")\n",
    "efficient_bo_model.load_state_dict(efficentNet_b0_weights)\n",
    "classifier = efficient_bo_model.to(device)\n",
    "\n",
    "classifier_transforms = transforms.Compose([\n",
    "    transforms.Resize(48),\n",
    "    transforms.CenterCrop(48),\n",
    "    transforms.Grayscale(num_output_channels=3),\n",
    "    transforms.CenterCrop(224),\n",
    "    transforms.Resize(256),\n",
    "    transforms.ToTensor(),\n",
    "    transforms.Normalize(\n",
    "        mean=[0.485, 0.456, 0.406],\n",
    "        std=[0.229, 0.224, 0.225])\n",
    "])\n",
    "# Classes to classify\n",
    "classes = ['angry', 'disgust', 'fear', 'happy', 'neutral', 'sad', 'surprise']"
   ]
  },
  {
   "cell_type": "code",
   "execution_count": 5,
   "id": "711985de-c16f-48d5-bba7-31f3b63fed5f",
   "metadata": {},
   "outputs": [],
   "source": [
    "# Import detection model\n",
    "detector = YOLO(r'..\\models\\yolo8n_best.pt', task='detect')"
   ]
  },
  {
   "cell_type": "markdown",
   "id": "c994959a-1b89-4dea-a2dd-dbcd4d92af01",
   "metadata": {},
   "source": [
    "## Main pipeline"
   ]
  },
  {
   "cell_type": "code",
   "execution_count": 13,
   "id": "3985de2c-6761-4786-8e34-e134bd36bf75",
   "metadata": {},
   "outputs": [
    {
     "name": "stdout",
     "output_type": "stream",
     "text": [
      "30.0\n"
     ]
    }
   ],
   "source": [
    "import cv2\n",
    "\n",
    "cap = cv2.VideoCapture(0)\n",
    "\n",
    "cap.set(cv2.CAP_PROP_FRAME_WIDTH, 640)\n",
    "cap.set(cv2.CAP_PROP_FRAME_HEIGHT, 480)\n",
    "\n",
    "fps = cap.get(cv2.CAP_PROP_FPS)\n",
    "print(fps)\n",
    "if not cap.isOpened():\n",
    "    print(\"Error: couldn't open the video.\")\n",
    "    exit()\n",
    "\n",
    "frame_skip = 3\n",
    "frame_counter = 0\n",
    "\n",
    "while cap.isOpened():\n",
    "    ret, frame = cap.read()\n",
    "    if not ret:\n",
    "        print(\"The video is completed.\")\n",
    "        break\n",
    "        \n",
    "    frame = cv2.resize(frame, (640, 480))\n",
    "\n",
    "    if frame_counter % frame_skip == 0:\n",
    "        processes_frame = process_frame(frame=frame, detector=detector, \n",
    "                                        classifier_transforms=classifier_transforms,\n",
    "                                        classifier=classifier,\n",
    "                                        device=device,\n",
    "                                        classes=classes)\n",
    "    else:\n",
    "        processes_frame = frame\n",
    "    \n",
    "    cv2.imshow('Video', processes_frame)\n",
    "\n",
    "    if cv2.waitKey(1) & 0xFF == ord('q'): # Press 'q' to out\n",
    "        break\n",
    "\n",
    "cap.release()\n",
    "cv2.destroyAllWindows()"
   ]
  },
  {
   "cell_type": "code",
   "execution_count": null,
   "id": "bbbdd492-2b9a-48a0-995d-3523f51d25ab",
   "metadata": {},
   "outputs": [],
   "source": []
  },
  {
   "cell_type": "code",
   "execution_count": 41,
   "id": "189b4cd0-b09c-462b-83e8-a7346195bf80",
   "metadata": {},
   "outputs": [
    {
     "name": "stdout",
     "output_type": "stream",
     "text": [
      "FPS: 30\n",
      "Recording started...\n",
      "Recording stopped.\n",
      "Recording started...\n",
      "Recording stopped.\n",
      "Recording started...\n",
      "Recording stopped.\n",
      "Recording started...\n",
      "Recording stopped.\n",
      "Recording started...\n",
      "Recording stopped.\n",
      "Recording started...\n",
      "Recording stopped.\n",
      "Recording started...\n",
      "Recording stopped.\n",
      "Recording started...\n",
      "Recording stopped.\n",
      "Recording started...\n",
      "Recording stopped.\n",
      "Recording started...\n",
      "Recording stopped.\n",
      "Recording started...\n",
      "Recording stopped.\n",
      "Recording started...\n",
      "Recording stopped.\n",
      "Recording started...\n",
      "Recording stopped.\n",
      "Recording started...\n",
      "Recording stopped.\n",
      "Recording started...\n",
      "Recording stopped.\n",
      "Recording started...\n",
      "Recording stopped.\n",
      "Recording started...\n",
      "Recording stopped.\n",
      "Recording started...\n",
      "Recording stopped.\n",
      "Recording started...\n",
      "Recording stopped.\n"
     ]
    }
   ],
   "source": [
    "import cv2\n",
    "\n",
    "# Настройки для захвата видео\n",
    "cap = cv2.VideoCapture(0)\n",
    "cap.set(cv2.CAP_PROP_FRAME_WIDTH, 640)\n",
    "cap.set(cv2.CAP_PROP_FRAME_HEIGHT, 480)\n",
    "\n",
    "# Получаем FPS для настройки записи\n",
    "fps = int(cap.get(cv2.CAP_PROP_FPS)) or 30  # Если FPS не определён, берём значение по умолчанию\n",
    "print(f\"FPS: {fps}\")\n",
    "\n",
    "if not cap.isOpened():\n",
    "    print(\"Error: couldn't open the video.\")\n",
    "    exit()\n",
    "\n",
    "# Настройки для записи видео\n",
    "fourcc = cv2.VideoWriter_fourcc(*'XVID')  # Кодек (XVID для .avi файлов)\n",
    "output_file = r\"C:\\Users\\tyuri\\Downloads\\saved_video.mp4\"           # Имя выходного файла\n",
    "frame_size = (640, 480)                   # Размеры кадра\n",
    "out = None                                # Инициализация объекта записи\n",
    "\n",
    "# Счётчик кадров\n",
    "frame_skip = 1\n",
    "frame_counter = 0\n",
    "\n",
    "# Флаг для определения начала записи\n",
    "recording = False\n",
    "\n",
    "while cap.isOpened():\n",
    "    ret, frame = cap.read()\n",
    "    if not ret:\n",
    "        print(\"The video is completed.\")\n",
    "        break\n",
    "\n",
    "    frame = cv2.resize(frame, frame_size)\n",
    "\n",
    "    if frame_counter % frame_skip == 0:\n",
    "        # Здесь ваш процесс обработки кадра (заменить на реальный код)\n",
    "        processes_frame = process_frame(frame=frame, detector=detector, \n",
    "                                        classifier_transforms=classifier_transforms,\n",
    "                                        classifier=classifier,\n",
    "                                        device=device,\n",
    "                                        classes=classes)\n",
    "    else:\n",
    "        processes_frame = frame\n",
    "\n",
    "    # Отображение видео\n",
    "    cv2.imshow('Video', processes_frame)\n",
    "\n",
    "    # Управление началом и концом записи с помощью клавиш 'r' и 's'\n",
    "    key = cv2.waitKey(1) & 0xFF\n",
    "    if key == ord('r'):  # Нажать 'r' для начала записи\n",
    "        if not recording:\n",
    "            print(\"Recording started...\")\n",
    "            out = cv2.VideoWriter(output_file, fourcc, fps, frame_size)\n",
    "            recording = True\n",
    "    elif key == ord('s'):  # Нажать 's' для остановки записи\n",
    "        if recording:\n",
    "            print(\"Recording stopped.\")\n",
    "            recording = False\n",
    "            out.release()\n",
    "            out = None\n",
    "    elif key == ord('q'):  # Нажать 'q' для выхода\n",
    "        break\n",
    "\n",
    "    # Записываем кадры в файл, если запись активна\n",
    "    if recording and out:\n",
    "        out.write(processes_frame)\n",
    "\n",
    "    frame_counter += 1\n",
    "\n",
    "# Освобождение ресурсов\n",
    "cap.release()\n",
    "if out:\n",
    "    out.release()\n",
    "cv2.destroyAllWindows()"
   ]
  },
  {
   "cell_type": "markdown",
   "id": "f9e42952-9663-4233-96da-557629b6f8ff",
   "metadata": {},
   "source": [
    "classes = ['angry', 'disgust', 'fear', 'happy', 'neutral', 'sad', 'surprise']"
   ]
  },
  {
   "cell_type": "code",
   "execution_count": null,
   "id": "7bd627cd-0b11-4771-ab3d-77ea6b9a20a5",
   "metadata": {},
   "outputs": [],
   "source": []
  }
 ],
 "metadata": {
  "kernelspec": {
   "display_name": "Python 3 (ipykernel)",
   "language": "python",
   "name": "python3"
  },
  "language_info": {
   "codemirror_mode": {
    "name": "ipython",
    "version": 3
   },
   "file_extension": ".py",
   "mimetype": "text/x-python",
   "name": "python",
   "nbconvert_exporter": "python",
   "pygments_lexer": "ipython3",
   "version": "3.11.9"
  }
 },
 "nbformat": 4,
 "nbformat_minor": 5
}
