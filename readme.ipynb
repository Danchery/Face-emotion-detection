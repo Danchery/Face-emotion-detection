{
 "cells": [
  {
   "cell_type": "markdown",
   "id": "b543ec9a-2066-4284-b15f-30c91f46e821",
   "metadata": {},
   "source": [
    "# Face Emotion Detection\n",
    "\n",
    "This is the second part of my educational project on face emotion detection.  \n",
    "The project combines face detection and emotion classification in real-time using a camera feed.\n",
    "\n",
    "### Project Overview:\n",
    "1. Emotion Recognition Model: I first developed an [Emotion Recognition CNN](https://github.com/Danchery/Emotion-recognition/tree/master).\n",
    "2. Face Detection: Fine-tuned YOLOv8n from Ultralytics on the [Open Images Dataset V7](https://storage.googleapis.com/openimages/web/index.html) to detect faces.\n",
    "\n",
    "---\n",
    "\n",
    "## Results\n",
    "[Watch the demonstration video](results/test.mp4)\n",
    "\n",
    "---\n",
    "\n",
    "## Project Structure\n",
    " \n",
    "- `models/`: Contains the fine-tuned weights for the detection and classification models.\n",
    "- `notebooks/`: Includes the pipeline for combining detection and classification, along with helper functions.\n",
    "- `Results/` : Demonstration Gif\n",
    "\n",
    "---\n",
    "\n",
    "## Future Work\n",
    "- Improve robustness of the system for emotion recognition\n",
    "- Experiment with more datasest and architectures for build more robust emotion recognitional system.\n",
    "\n",
    "---\n",
    "\n",
    "## Tools and Libraries\n",
    "- PyTorch: For training and fine-tuning models.\n",
    "- Ultralytics: For face detection.\n",
    "- OpenCV: For handling video feeds and image processing.\n",
    "\n"
   ]
  },
  {
   "cell_type": "code",
   "execution_count": null,
   "id": "d7196653-6951-4552-8351-3e795df91bda",
   "metadata": {},
   "outputs": [],
   "source": []
  }
 ],
 "metadata": {
  "kernelspec": {
   "display_name": "Python 3 (ipykernel)",
   "language": "python",
   "name": "python3"
  },
  "language_info": {
   "codemirror_mode": {
    "name": "ipython",
    "version": 3
   },
   "file_extension": ".py",
   "mimetype": "text/x-python",
   "name": "python",
   "nbconvert_exporter": "python",
   "pygments_lexer": "ipython3",
   "version": "3.11.9"
  }
 },
 "nbformat": 4,
 "nbformat_minor": 5
}
